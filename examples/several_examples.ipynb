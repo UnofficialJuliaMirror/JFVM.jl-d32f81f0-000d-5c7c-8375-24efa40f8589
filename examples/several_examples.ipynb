{
 "cells": [
  {
   "cell_type": "markdown",
   "metadata": {},
   "source": [
    "# Diffusion equation\n",
    "The [diffusion equation](https://en.wikipedia.org/wiki/Diffusion_equation) reads\n",
    "$$\\frac{\\partial c}{\\partial t} + \\nabla. (-D \\nabla c) = 0$$\n",
    "This equation describe many transport processes, e.g., heat transfer by conduction and mass transfer by diffusion."
   ]
  },
  {
   "cell_type": "markdown",
   "metadata": {},
   "source": [
    "## Steady-state diffusion equation\n",
    "Here we solve a diffusion equation on a rectangular domain with fixed value on each boundary:\n",
    "$$\\nabla. (-D \\nabla c) = 0$$\n",
    "Boundary conditions:\n",
    "$$c(x=0,\\; y)=1.0$$\n",
    "$$c(x=L_x,\\; y)=3.0$$\n",
    "$$c(x,\\; y=0)=2.0$$\n",
    "$$c(x,\\; y=L_y)=4.0$$"
   ]
  },
  {
   "cell_type": "code",
   "execution_count": 7,
   "metadata": {},
   "outputs": [
    {
     "data": {
      "image/png": "[encoded data removed]",
      "text/plain": [
       "PyPlot.Figure(PyObject <matplotlib.figure.Figure object at 0x7fd531535210>)"
      ]
     },
     "metadata": {},
     "output_type": "display_data"
    },
    {
     "data": {
      "text/plain": [
       "PyObject <matplotlib.colorbar.Colorbar object at 0x7fd5314f8110>"
      ]
     },
     "execution_count": 7,
     "metadata": {},
     "output_type": "execute_result"
    }
   ],
   "source": [
    "using JFVM\n",
    "\n",
    "# domain\n",
    "Lx = 2.0\n",
    "Ly = 1.0\n",
    "Nx = 30\n",
    "Ny = 20\n",
    "c_left   = 1.0\n",
    "c_right  = 3.0\n",
    "c_bottom = 2.0\n",
    "c_top    = 4.0\n",
    "m  = createMesh2D(Nx, Ny, Lx, Ly)\n",
    "\n",
    "# diffusion coefficient\n",
    "D_val  = 1e-5 # [m^2/s]\n",
    "D_cell = createCellVariable(m, D_val)\n",
    "D_face = harmonicMean(D_cell)\n",
    "M_diff = diffusionTerm(D_face)\n",
    "\n",
    "# Boundary conditions\n",
    "BC             = createBC(m)\n",
    "BC.left.a[:]   = 0.0\n",
    "BC.left.b[:]   = 1.0\n",
    "BC.left.c[:]   = c_left\n",
    "BC.right.a[:]  = 0.0\n",
    "BC.right.b[:]  = 1.0\n",
    "BC.right.c[:]  = c_right\n",
    "BC.bottom.a[:] = 0.0\n",
    "BC.bottom.b[:] = 1.0\n",
    "BC.bottom.c[:] = c_bottom\n",
    "BC.top.a[:]    = 0.0\n",
    "BC.top.b[:]    = 1.0\n",
    "BC.top.c[:]    = c_top\n",
    "M_bc, RHS_bc   = boundaryConditionTerm(BC)\n",
    "\n",
    "# solve the equation\n",
    "c = solveLinearPDE(m, M_diff+M_bc, RHS_bc)\n",
    "figure(figsize=(7,3))\n",
    "visualizeCells(c)\n",
    "colorbar()"
   ]
  },
  {
   "cell_type": "markdown",
   "metadata": {},
   "source": [
    "## Above equation with a source term\n",
    "Let's add a source term right in the middle of the domain (q=1.0 mol/s)\n",
    "$$\\nabla. (-D \\nabla c) = q$$\n",
    "Boundary conditions:\n",
    "$$c(x=0,\\; y)=1.0$$\n",
    "$$c(x=L_x,\\; y)=1.0$$\n",
    "$$c(x,\\; y=0)=1.0$$\n",
    "$$c(x,\\; y=L_y)=1.0$$\n",
    "$$q(x=L_x/2,\\; y=L_y/2)=1.0$$"
   ]
  },
  {
   "cell_type": "code",
   "execution_count": 20,
   "metadata": {},
   "outputs": [
    {
     "ename": "LoadError",
     "evalue": "\u001b[91mMethodError: no method matching /(::JFVM.CellValue{Float64}, ::JFVM.CellValue{Float64})\u001b[0m\nClosest candidates are:\n  /(\u001b[91m::PyCall.PyObject\u001b[39m, ::Any) at /home/ali/.julia/v0.6/PyCall/src/PyCall.jl:791\n  /(\u001b[91m::Real\u001b[39m, ::JFVM.CellValue) at /home/ali/.julia/v0.6/JFVM/src/domainOperators.jl:149\n  /(::JFVM.CellValue, \u001b[91m::Real\u001b[39m) at /home/ali/.julia/v0.6/JFVM/src/domainOperators.jl:154\u001b[39m",
     "output_type": "error",
     "traceback": [
      "\u001b[91mMethodError: no method matching /(::JFVM.CellValue{Float64}, ::JFVM.CellValue{Float64})\u001b[0m\nClosest candidates are:\n  /(\u001b[91m::PyCall.PyObject\u001b[39m, ::Any) at /home/ali/.julia/v0.6/PyCall/src/PyCall.jl:791\n  /(\u001b[91m::Real\u001b[39m, ::JFVM.CellValue) at /home/ali/.julia/v0.6/JFVM/src/domainOperators.jl:149\n  /(::JFVM.CellValue, \u001b[91m::Real\u001b[39m) at /home/ali/.julia/v0.6/JFVM/src/domainOperators.jl:154\u001b[39m",
      "",
      "Stacktrace:",
      " [1] \u001b[1mbroadcast\u001b[22m\u001b[22m\u001b[1m(\u001b[22m\u001b[22m::Function, ::JFVM.CellValue{Float64}, ::JFVM.CellValue{Float64}\u001b[1m)\u001b[22m\u001b[22m at \u001b[1m./broadcast.jl:434\u001b[22m\u001b[22m"
     ]
    }
   ],
   "source": [
    "using JFVM\n",
    "\n",
    "# domain\n",
    "Lx = 2.0\n",
    "Ly = 1.0\n",
    "Nx = 30\n",
    "Ny = 20\n",
    "c_left   = 1.0    # [mol/m^3]\n",
    "c_right  = 3.0    # [mol/m^3]\n",
    "c_bottom = 2.0    # [mol/m^3]\n",
    "c_top    = 4.0    # [mol/m^3]\n",
    "q        = 1.0e-4 # [mol/s]\n",
    "m  = createMesh2D(Nx, Ny, Lx, Ly)\n",
    "\n",
    "# diffusion coefficient\n",
    "D_val  = 1e-5                          # [m^2/s]\n",
    "D_cell = createCellVariable(m, D_val)\n",
    "D_face = harmonicMean(D_cell)\n",
    "M_diff = diffusionTerm(D_face)\n",
    "\n",
    "# Boundary conditions\n",
    "BC             = createBC(m)\n",
    "BC.left.a[:]   = 0.0\n",
    "BC.left.b[:]   = 1.0\n",
    "BC.left.c[:]   = c_left\n",
    "BC.right.a[:]  = 0.0\n",
    "BC.right.b[:]  = 1.0\n",
    "BC.right.c[:]  = c_right\n",
    "BC.bottom.a[:] = 0.0\n",
    "BC.bottom.b[:] = 1.0\n",
    "BC.bottom.c[:] = c_bottom\n",
    "BC.top.a[:]    = 0.0\n",
    "BC.top.b[:]    = 1.0\n",
    "BC.top.c[:]    = c_top\n",
    "M_bc, RHS_bc   = boundaryConditionTerm(BC)\n",
    "\n",
    "# source term\n",
    "q_cell = createCellVariable(m, q)\n",
    "v_cell = cellVolume(m)\n",
    "q_cell.value[Int(Nx/2)+1, Int(Ny/2)+1] = q       # [mol/s]\n",
    "RHS_source  = constantSourceTerm(q_cell./v_cell) # [mol/m^3/s]\n",
    "\n",
    "# solve the equation\n",
    "c = solveLinearPDE(m, -M_diff+M_bc, RHS_bc+RHS_source)\n",
    "figure(figsize=(7,3))\n",
    "visualizeCells(c)\n",
    "colorbar()"
   ]
  },
  {
   "cell_type": "code",
   "execution_count": 25,
   "metadata": {},
   "outputs": [
    {
     "ename": "LoadError",
     "evalue": "\u001b[91mMethodError: no method matching /(::JFVM.CellValue{Float64}, ::JFVM.CellValue{Float64})\u001b[0m\nClosest candidates are:\n  /(\u001b[91m::PyCall.PyObject\u001b[39m, ::Any) at /home/ali/.julia/v0.6/PyCall/src/PyCall.jl:791\n  /(\u001b[91m::Real\u001b[39m, ::JFVM.CellValue) at /home/ali/.julia/v0.6/JFVM/src/domainOperators.jl:149\n  /(::JFVM.CellValue, \u001b[91m::Real\u001b[39m) at /home/ali/.julia/v0.6/JFVM/src/domainOperators.jl:154\u001b[39m",
     "output_type": "error",
     "traceback": [
      "\u001b[91mMethodError: no method matching /(::JFVM.CellValue{Float64}, ::JFVM.CellValue{Float64})\u001b[0m\nClosest candidates are:\n  /(\u001b[91m::PyCall.PyObject\u001b[39m, ::Any) at /home/ali/.julia/v0.6/PyCall/src/PyCall.jl:791\n  /(\u001b[91m::Real\u001b[39m, ::JFVM.CellValue) at /home/ali/.julia/v0.6/JFVM/src/domainOperators.jl:149\n  /(::JFVM.CellValue, \u001b[91m::Real\u001b[39m) at /home/ali/.julia/v0.6/JFVM/src/domainOperators.jl:154\u001b[39m",
      "",
      "Stacktrace:",
      " [1] \u001b[1mbroadcast\u001b[22m\u001b[22m\u001b[1m(\u001b[22m\u001b[22m::Function, ::JFVM.CellValue{Float64}, ::JFVM.CellValue{Float64}\u001b[1m)\u001b[22m\u001b[22m at \u001b[1m./broadcast.jl:434\u001b[22m\u001b[22m"
     ]
    }
   ],
   "source": [
    "q_cell./v_cell"
   ]
  }
 ],
 "metadata": {
  "kernelspec": {
   "display_name": "Julia 0.6.0",
   "language": "julia",
   "name": "julia-0.6"
  },
  "language_info": {
   "file_extension": ".jl",
   "mimetype": "application/julia",
   "name": "julia",
   "version": "0.6.0"
  }
 },
 "nbformat": 4,
 "nbformat_minor": 2
}
